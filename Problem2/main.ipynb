{
 "cells": [
  {
   "cell_type": "markdown",
   "metadata": {},
   "source": [
    "## Read data"
   ]
  },
  {
   "cell_type": "code",
   "execution_count": 1,
   "metadata": {},
   "outputs": [],
   "source": [
    "import pandas as pd\n",
    "import config_path\n",
    "import os"
   ]
  },
  {
   "cell_type": "code",
   "execution_count": 2,
   "metadata": {},
   "outputs": [],
   "source": [
    "data_v1 = pd.read_csv(os.path.join(config_path.data_path, 'raw', 'CancerRadiomicsKaggle_Stability_v1_042120.csv'))\n",
    "data_v2 = pd.read_csv(os.path.join(config_path.data_path, 'raw', 'CancerRadiomicsKaggle_v2_050620.csv'))"
   ]
  },
  {
   "cell_type": "code",
   "execution_count": 3,
   "metadata": {},
   "outputs": [
    {
     "data": {
      "text/html": [
       "<div>\n",
       "<style scoped>\n",
       "    .dataframe tbody tr th:only-of-type {\n",
       "        vertical-align: middle;\n",
       "    }\n",
       "\n",
       "    .dataframe tbody tr th {\n",
       "        vertical-align: top;\n",
       "    }\n",
       "\n",
       "    .dataframe thead th {\n",
       "        text-align: right;\n",
       "    }\n",
       "</style>\n",
       "<table border=\"1\" class=\"dataframe\">\n",
       "  <thead>\n",
       "    <tr style=\"text-align: right;\">\n",
       "      <th></th>\n",
       "      <th>Doctor ID</th>\n",
       "      <th>Patient ID</th>\n",
       "      <th>v1</th>\n",
       "      <th>v2</th>\n",
       "      <th>v3</th>\n",
       "      <th>v4</th>\n",
       "      <th>v5</th>\n",
       "      <th>v6</th>\n",
       "      <th>v7</th>\n",
       "      <th>v8</th>\n",
       "      <th>...</th>\n",
       "      <th>v833</th>\n",
       "      <th>v834</th>\n",
       "      <th>v835</th>\n",
       "      <th>v836</th>\n",
       "      <th>v837</th>\n",
       "      <th>v838</th>\n",
       "      <th>v839</th>\n",
       "      <th>v840</th>\n",
       "      <th>v841</th>\n",
       "      <th>v842</th>\n",
       "    </tr>\n",
       "  </thead>\n",
       "  <tbody>\n",
       "    <tr>\n",
       "      <th>0</th>\n",
       "      <td>1</td>\n",
       "      <td>1</td>\n",
       "      <td>2576.25</td>\n",
       "      <td>39.204592</td>\n",
       "      <td>2523.34375</td>\n",
       "      <td>42.767656</td>\n",
       "      <td>0.488701</td>\n",
       "      <td>9.917425</td>\n",
       "      <td>0.361771</td>\n",
       "      <td>0.726856</td>\n",
       "      <td>...</td>\n",
       "      <td>3732.052870</td>\n",
       "      <td>0.640057</td>\n",
       "      <td>0.001952</td>\n",
       "      <td>7.138687</td>\n",
       "      <td>0.001858</td>\n",
       "      <td>0.002814</td>\n",
       "      <td>5209.893177</td>\n",
       "      <td>12.194318</td>\n",
       "      <td>0.042216</td>\n",
       "      <td>0.051119</td>\n",
       "    </tr>\n",
       "    <tr>\n",
       "      <th>1</th>\n",
       "      <td>2</td>\n",
       "      <td>1</td>\n",
       "      <td>2080.50</td>\n",
       "      <td>39.204592</td>\n",
       "      <td>2033.00000</td>\n",
       "      <td>43.105744</td>\n",
       "      <td>0.495489</td>\n",
       "      <td>5.893125</td>\n",
       "      <td>0.367294</td>\n",
       "      <td>0.770437</td>\n",
       "      <td>...</td>\n",
       "      <td>1752.238636</td>\n",
       "      <td>0.662144</td>\n",
       "      <td>0.003066</td>\n",
       "      <td>7.043067</td>\n",
       "      <td>0.002865</td>\n",
       "      <td>0.002996</td>\n",
       "      <td>5717.296680</td>\n",
       "      <td>7.975850</td>\n",
       "      <td>0.061743</td>\n",
       "      <td>0.075541</td>\n",
       "    </tr>\n",
       "    <tr>\n",
       "      <th>2</th>\n",
       "      <td>3</td>\n",
       "      <td>1</td>\n",
       "      <td>2376.00</td>\n",
       "      <td>44.070965</td>\n",
       "      <td>2321.90625</td>\n",
       "      <td>47.047567</td>\n",
       "      <td>0.471206</td>\n",
       "      <td>5.829121</td>\n",
       "      <td>0.362637</td>\n",
       "      <td>0.775042</td>\n",
       "      <td>...</td>\n",
       "      <td>2863.166008</td>\n",
       "      <td>0.671965</td>\n",
       "      <td>0.001812</td>\n",
       "      <td>7.082423</td>\n",
       "      <td>0.001697</td>\n",
       "      <td>0.002704</td>\n",
       "      <td>5599.760835</td>\n",
       "      <td>8.102155</td>\n",
       "      <td>0.081455</td>\n",
       "      <td>0.065024</td>\n",
       "    </tr>\n",
       "    <tr>\n",
       "      <th>3</th>\n",
       "      <td>1</td>\n",
       "      <td>2</td>\n",
       "      <td>3420.75</td>\n",
       "      <td>32.958307</td>\n",
       "      <td>3380.59375</td>\n",
       "      <td>26.442014</td>\n",
       "      <td>0.621608</td>\n",
       "      <td>13.570378</td>\n",
       "      <td>0.656400</td>\n",
       "      <td>0.518366</td>\n",
       "      <td>...</td>\n",
       "      <td>899.295045</td>\n",
       "      <td>0.567038</td>\n",
       "      <td>0.006541</td>\n",
       "      <td>7.032535</td>\n",
       "      <td>0.003872</td>\n",
       "      <td>0.002332</td>\n",
       "      <td>1917.611508</td>\n",
       "      <td>3.833872</td>\n",
       "      <td>0.033679</td>\n",
       "      <td>0.152925</td>\n",
       "    </tr>\n",
       "    <tr>\n",
       "      <th>4</th>\n",
       "      <td>2</td>\n",
       "      <td>2</td>\n",
       "      <td>4675.50</td>\n",
       "      <td>30.757113</td>\n",
       "      <td>4643.84375</td>\n",
       "      <td>24.146454</td>\n",
       "      <td>0.664780</td>\n",
       "      <td>14.380366</td>\n",
       "      <td>0.908771</td>\n",
       "      <td>0.436027</td>\n",
       "      <td>...</td>\n",
       "      <td>2761.771795</td>\n",
       "      <td>0.619608</td>\n",
       "      <td>0.001782</td>\n",
       "      <td>7.348987</td>\n",
       "      <td>0.001629</td>\n",
       "      <td>0.001553</td>\n",
       "      <td>4400.525876</td>\n",
       "      <td>5.613430</td>\n",
       "      <td>0.027458</td>\n",
       "      <td>0.102798</td>\n",
       "    </tr>\n",
       "  </tbody>\n",
       "</table>\n",
       "<p>5 rows × 844 columns</p>\n",
       "</div>"
      ],
      "text/plain": [
       "   Doctor ID  Patient ID       v1         v2          v3         v4        v5  \\\n",
       "0          1           1  2576.25  39.204592  2523.34375  42.767656  0.488701   \n",
       "1          2           1  2080.50  39.204592  2033.00000  43.105744  0.495489   \n",
       "2          3           1  2376.00  44.070965  2321.90625  47.047567  0.471206   \n",
       "3          1           2  3420.75  32.958307  3380.59375  26.442014  0.621608   \n",
       "4          2           2  4675.50  30.757113  4643.84375  24.146454  0.664780   \n",
       "\n",
       "          v6        v7        v8  ...         v833      v834      v835  \\\n",
       "0   9.917425  0.361771  0.726856  ...  3732.052870  0.640057  0.001952   \n",
       "1   5.893125  0.367294  0.770437  ...  1752.238636  0.662144  0.003066   \n",
       "2   5.829121  0.362637  0.775042  ...  2863.166008  0.671965  0.001812   \n",
       "3  13.570378  0.656400  0.518366  ...   899.295045  0.567038  0.006541   \n",
       "4  14.380366  0.908771  0.436027  ...  2761.771795  0.619608  0.001782   \n",
       "\n",
       "       v836      v837      v838         v839       v840      v841      v842  \n",
       "0  7.138687  0.001858  0.002814  5209.893177  12.194318  0.042216  0.051119  \n",
       "1  7.043067  0.002865  0.002996  5717.296680   7.975850  0.061743  0.075541  \n",
       "2  7.082423  0.001697  0.002704  5599.760835   8.102155  0.081455  0.065024  \n",
       "3  7.032535  0.003872  0.002332  1917.611508   3.833872  0.033679  0.152925  \n",
       "4  7.348987  0.001629  0.001553  4400.525876   5.613430  0.027458  0.102798  \n",
       "\n",
       "[5 rows x 844 columns]"
      ]
     },
     "execution_count": 3,
     "metadata": {},
     "output_type": "execute_result"
    }
   ],
   "source": [
    "data_v1.head(5)"
   ]
  },
  {
   "cell_type": "code",
   "execution_count": 4,
   "metadata": {
    "scrolled": true
   },
   "outputs": [
    {
     "data": {
      "text/html": [
       "<div>\n",
       "<style scoped>\n",
       "    .dataframe tbody tr th:only-of-type {\n",
       "        vertical-align: middle;\n",
       "    }\n",
       "\n",
       "    .dataframe tbody tr th {\n",
       "        vertical-align: top;\n",
       "    }\n",
       "\n",
       "    .dataframe thead th {\n",
       "        text-align: right;\n",
       "    }\n",
       "</style>\n",
       "<table border=\"1\" class=\"dataframe\">\n",
       "  <thead>\n",
       "    <tr style=\"text-align: right;\">\n",
       "      <th></th>\n",
       "      <th>Patient ID</th>\n",
       "      <th>Gender</th>\n",
       "      <th>Age</th>\n",
       "      <th>Clinical A</th>\n",
       "      <th>Clinical B</th>\n",
       "      <th>Clinical C</th>\n",
       "      <th>Clinical D</th>\n",
       "      <th>Time to Event</th>\n",
       "      <th>Patient Status</th>\n",
       "      <th>Patient Status at 3 Year</th>\n",
       "      <th>...</th>\n",
       "      <th>v833</th>\n",
       "      <th>v834</th>\n",
       "      <th>v835</th>\n",
       "      <th>v836</th>\n",
       "      <th>v837</th>\n",
       "      <th>v838</th>\n",
       "      <th>v839</th>\n",
       "      <th>v840</th>\n",
       "      <th>v841</th>\n",
       "      <th>v842</th>\n",
       "    </tr>\n",
       "  </thead>\n",
       "  <tbody>\n",
       "    <tr>\n",
       "      <th>0</th>\n",
       "      <td>1</td>\n",
       "      <td>1</td>\n",
       "      <td>51</td>\n",
       "      <td>1</td>\n",
       "      <td>0</td>\n",
       "      <td>1</td>\n",
       "      <td>0</td>\n",
       "      <td>993</td>\n",
       "      <td>0</td>\n",
       "      <td>-1</td>\n",
       "      <td>...</td>\n",
       "      <td>2863.166008</td>\n",
       "      <td>0.671965</td>\n",
       "      <td>0.001812</td>\n",
       "      <td>7.082423</td>\n",
       "      <td>0.001697</td>\n",
       "      <td>0.002704</td>\n",
       "      <td>5599.760835</td>\n",
       "      <td>8.102155</td>\n",
       "      <td>0.081455</td>\n",
       "      <td>0.065024</td>\n",
       "    </tr>\n",
       "    <tr>\n",
       "      <th>1</th>\n",
       "      <td>2</td>\n",
       "      <td>1</td>\n",
       "      <td>52</td>\n",
       "      <td>2</td>\n",
       "      <td>1</td>\n",
       "      <td>2</td>\n",
       "      <td>0</td>\n",
       "      <td>2806</td>\n",
       "      <td>0</td>\n",
       "      <td>0</td>\n",
       "      <td>...</td>\n",
       "      <td>5707.741822</td>\n",
       "      <td>0.691453</td>\n",
       "      <td>0.000859</td>\n",
       "      <td>7.755168</td>\n",
       "      <td>0.000796</td>\n",
       "      <td>0.001142</td>\n",
       "      <td>12788.777320</td>\n",
       "      <td>10.510535</td>\n",
       "      <td>0.042781</td>\n",
       "      <td>0.070754</td>\n",
       "    </tr>\n",
       "    <tr>\n",
       "      <th>2</th>\n",
       "      <td>3</td>\n",
       "      <td>2</td>\n",
       "      <td>39</td>\n",
       "      <td>1</td>\n",
       "      <td>1</td>\n",
       "      <td>2</td>\n",
       "      <td>0</td>\n",
       "      <td>1114</td>\n",
       "      <td>0</td>\n",
       "      <td>0</td>\n",
       "      <td>...</td>\n",
       "      <td>3735.571429</td>\n",
       "      <td>0.735593</td>\n",
       "      <td>0.001540</td>\n",
       "      <td>7.250617</td>\n",
       "      <td>0.001460</td>\n",
       "      <td>0.002040</td>\n",
       "      <td>10151.403250</td>\n",
       "      <td>12.556235</td>\n",
       "      <td>0.085777</td>\n",
       "      <td>0.059948</td>\n",
       "    </tr>\n",
       "    <tr>\n",
       "      <th>3</th>\n",
       "      <td>4</td>\n",
       "      <td>1</td>\n",
       "      <td>47</td>\n",
       "      <td>1</td>\n",
       "      <td>1</td>\n",
       "      <td>2</td>\n",
       "      <td>0</td>\n",
       "      <td>1580</td>\n",
       "      <td>0</td>\n",
       "      <td>0</td>\n",
       "      <td>...</td>\n",
       "      <td>7189.520541</td>\n",
       "      <td>0.775392</td>\n",
       "      <td>0.001576</td>\n",
       "      <td>7.601097</td>\n",
       "      <td>0.001290</td>\n",
       "      <td>0.001179</td>\n",
       "      <td>24152.978110</td>\n",
       "      <td>25.953500</td>\n",
       "      <td>0.082586</td>\n",
       "      <td>0.040302</td>\n",
       "    </tr>\n",
       "    <tr>\n",
       "      <th>4</th>\n",
       "      <td>5</td>\n",
       "      <td>1</td>\n",
       "      <td>43</td>\n",
       "      <td>2</td>\n",
       "      <td>1</td>\n",
       "      <td>2</td>\n",
       "      <td>0</td>\n",
       "      <td>1435</td>\n",
       "      <td>0</td>\n",
       "      <td>0</td>\n",
       "      <td>...</td>\n",
       "      <td>7122.637996</td>\n",
       "      <td>0.756142</td>\n",
       "      <td>0.001447</td>\n",
       "      <td>7.450933</td>\n",
       "      <td>0.001233</td>\n",
       "      <td>0.001903</td>\n",
       "      <td>20879.171310</td>\n",
       "      <td>33.389569</td>\n",
       "      <td>0.068150</td>\n",
       "      <td>0.029494</td>\n",
       "    </tr>\n",
       "  </tbody>\n",
       "</table>\n",
       "<p>5 rows × 852 columns</p>\n",
       "</div>"
      ],
      "text/plain": [
       "   Patient ID  Gender  Age  Clinical A  Clinical B  Clinical C  Clinical D  \\\n",
       "0           1       1   51           1           0           1           0   \n",
       "1           2       1   52           2           1           2           0   \n",
       "2           3       2   39           1           1           2           0   \n",
       "3           4       1   47           1           1           2           0   \n",
       "4           5       1   43           2           1           2           0   \n",
       "\n",
       "   Time to Event  Patient Status  Patient Status at 3 Year  ...         v833  \\\n",
       "0            993               0                        -1  ...  2863.166008   \n",
       "1           2806               0                         0  ...  5707.741822   \n",
       "2           1114               0                         0  ...  3735.571429   \n",
       "3           1580               0                         0  ...  7189.520541   \n",
       "4           1435               0                         0  ...  7122.637996   \n",
       "\n",
       "       v834      v835      v836      v837      v838          v839       v840  \\\n",
       "0  0.671965  0.001812  7.082423  0.001697  0.002704   5599.760835   8.102155   \n",
       "1  0.691453  0.000859  7.755168  0.000796  0.001142  12788.777320  10.510535   \n",
       "2  0.735593  0.001540  7.250617  0.001460  0.002040  10151.403250  12.556235   \n",
       "3  0.775392  0.001576  7.601097  0.001290  0.001179  24152.978110  25.953500   \n",
       "4  0.756142  0.001447  7.450933  0.001233  0.001903  20879.171310  33.389569   \n",
       "\n",
       "       v841      v842  \n",
       "0  0.081455  0.065024  \n",
       "1  0.042781  0.070754  \n",
       "2  0.085777  0.059948  \n",
       "3  0.082586  0.040302  \n",
       "4  0.068150  0.029494  \n",
       "\n",
       "[5 rows x 852 columns]"
      ]
     },
     "execution_count": 4,
     "metadata": {},
     "output_type": "execute_result"
    }
   ],
   "source": [
    "data_v2.head(5)"
   ]
  },
  {
   "cell_type": "markdown",
   "metadata": {},
   "source": [
    "## Process data"
   ]
  },
  {
   "cell_type": "code",
   "execution_count": 5,
   "metadata": {},
   "outputs": [],
   "source": [
    "from sklearn import preprocessing"
   ]
  },
  {
   "cell_type": "code",
   "execution_count": 6,
   "metadata": {},
   "outputs": [],
   "source": [
    "# Remove the uncomplete samples\n",
    "index_to_delete = data_v2[data_v2['Patient Status at 3 Year'] == -1].index\n",
    "processed_data_v2 = data_v2.copy()\n",
    "processed_data_v2.drop(index_to_delete, inplace=True)\n",
    "\n",
    "# Create x-y-based data\n",
    "X = processed_data_v2.drop(['Patient ID', 'Time to Event', 'Patient Status', 'Patient Status at 3 Year'], axis=1)\n",
    "y = processed_data_v2['Patient Status at 3 Year']\n",
    "y = y.reset_index(drop=True)\n",
    "\n",
    "# Normalize\n",
    "data_array = X.values\n",
    "scaler = preprocessing.StandardScaler().fit(data_array)\n",
    "data_scaled = scaler.transform(data_array)\n",
    "X = pd.DataFrame(data_scaled, columns=list(X.columns.values))"
   ]
  },
  {
   "cell_type": "code",
   "execution_count": 7,
   "metadata": {},
   "outputs": [
    {
     "data": {
      "text/html": [
       "<div>\n",
       "<style scoped>\n",
       "    .dataframe tbody tr th:only-of-type {\n",
       "        vertical-align: middle;\n",
       "    }\n",
       "\n",
       "    .dataframe tbody tr th {\n",
       "        vertical-align: top;\n",
       "    }\n",
       "\n",
       "    .dataframe thead th {\n",
       "        text-align: right;\n",
       "    }\n",
       "</style>\n",
       "<table border=\"1\" class=\"dataframe\">\n",
       "  <thead>\n",
       "    <tr style=\"text-align: right;\">\n",
       "      <th></th>\n",
       "      <th>Gender</th>\n",
       "      <th>Age</th>\n",
       "      <th>Clinical A</th>\n",
       "      <th>Clinical B</th>\n",
       "      <th>Clinical C</th>\n",
       "      <th>Clinical D</th>\n",
       "      <th>v1</th>\n",
       "      <th>v2</th>\n",
       "      <th>v3</th>\n",
       "      <th>v4</th>\n",
       "      <th>...</th>\n",
       "      <th>v833</th>\n",
       "      <th>v834</th>\n",
       "      <th>v835</th>\n",
       "      <th>v836</th>\n",
       "      <th>v837</th>\n",
       "      <th>v838</th>\n",
       "      <th>v839</th>\n",
       "      <th>v840</th>\n",
       "      <th>v841</th>\n",
       "      <th>v842</th>\n",
       "    </tr>\n",
       "  </thead>\n",
       "  <tbody>\n",
       "    <tr>\n",
       "      <th>0</th>\n",
       "      <td>-0.515978</td>\n",
       "      <td>0.244683</td>\n",
       "      <td>-0.354224</td>\n",
       "      <td>-1.24296</td>\n",
       "      <td>-1.823737</td>\n",
       "      <td>-0.34025</td>\n",
       "      <td>-0.643969</td>\n",
       "      <td>-0.918799</td>\n",
       "      <td>-0.643745</td>\n",
       "      <td>-1.058283</td>\n",
       "      <td>...</td>\n",
       "      <td>-0.184194</td>\n",
       "      <td>0.121761</td>\n",
       "      <td>-0.287112</td>\n",
       "      <td>0.358863</td>\n",
       "      <td>-0.225831</td>\n",
       "      <td>0.331645</td>\n",
       "      <td>-0.332515</td>\n",
       "      <td>0.100941</td>\n",
       "      <td>-0.030756</td>\n",
       "      <td>-0.781059</td>\n",
       "    </tr>\n",
       "    <tr>\n",
       "      <th>1</th>\n",
       "      <td>1.938065</td>\n",
       "      <td>-0.993382</td>\n",
       "      <td>-1.355290</td>\n",
       "      <td>-1.24296</td>\n",
       "      <td>-1.823737</td>\n",
       "      <td>-0.34025</td>\n",
       "      <td>-0.802291</td>\n",
       "      <td>-0.964595</td>\n",
       "      <td>-0.801776</td>\n",
       "      <td>-0.907695</td>\n",
       "      <td>...</td>\n",
       "      <td>-0.728204</td>\n",
       "      <td>0.997299</td>\n",
       "      <td>0.151826</td>\n",
       "      <td>-0.726514</td>\n",
       "      <td>0.296697</td>\n",
       "      <td>1.233996</td>\n",
       "      <td>-0.434427</td>\n",
       "      <td>0.360163</td>\n",
       "      <td>0.527254</td>\n",
       "      <td>-0.848246</td>\n",
       "    </tr>\n",
       "    <tr>\n",
       "      <th>2</th>\n",
       "      <td>-0.515978</td>\n",
       "      <td>-0.231496</td>\n",
       "      <td>-1.355290</td>\n",
       "      <td>-1.24296</td>\n",
       "      <td>-1.823737</td>\n",
       "      <td>-0.34025</td>\n",
       "      <td>-0.682710</td>\n",
       "      <td>-0.664686</td>\n",
       "      <td>-0.683158</td>\n",
       "      <td>-0.202746</td>\n",
       "      <td>...</td>\n",
       "      <td>0.224545</td>\n",
       "      <td>1.786734</td>\n",
       "      <td>0.174952</td>\n",
       "      <td>0.027430</td>\n",
       "      <td>0.163256</td>\n",
       "      <td>0.368944</td>\n",
       "      <td>0.106615</td>\n",
       "      <td>2.057805</td>\n",
       "      <td>0.485848</td>\n",
       "      <td>-0.970387</td>\n",
       "    </tr>\n",
       "    <tr>\n",
       "      <th>3</th>\n",
       "      <td>-0.515978</td>\n",
       "      <td>-0.612439</td>\n",
       "      <td>-0.354224</td>\n",
       "      <td>-1.24296</td>\n",
       "      <td>-1.823737</td>\n",
       "      <td>-0.34025</td>\n",
       "      <td>-0.792153</td>\n",
       "      <td>-0.674818</td>\n",
       "      <td>-0.791992</td>\n",
       "      <td>-0.088109</td>\n",
       "      <td>...</td>\n",
       "      <td>0.206096</td>\n",
       "      <td>1.404901</td>\n",
       "      <td>0.091899</td>\n",
       "      <td>-0.295599</td>\n",
       "      <td>0.117915</td>\n",
       "      <td>1.096670</td>\n",
       "      <td>-0.019890</td>\n",
       "      <td>3.000071</td>\n",
       "      <td>0.298487</td>\n",
       "      <td>-1.037583</td>\n",
       "    </tr>\n",
       "    <tr>\n",
       "      <th>4</th>\n",
       "      <td>-0.515978</td>\n",
       "      <td>1.197040</td>\n",
       "      <td>-1.355290</td>\n",
       "      <td>-1.24296</td>\n",
       "      <td>-1.823737</td>\n",
       "      <td>-0.34025</td>\n",
       "      <td>-0.674682</td>\n",
       "      <td>-0.388673</td>\n",
       "      <td>-0.675164</td>\n",
       "      <td>-0.377239</td>\n",
       "      <td>...</td>\n",
       "      <td>0.597576</td>\n",
       "      <td>0.257517</td>\n",
       "      <td>-0.327200</td>\n",
       "      <td>0.040125</td>\n",
       "      <td>-0.261389</td>\n",
       "      <td>0.357856</td>\n",
       "      <td>-0.241252</td>\n",
       "      <td>0.913230</td>\n",
       "      <td>-0.171335</td>\n",
       "      <td>-0.919325</td>\n",
       "    </tr>\n",
       "  </tbody>\n",
       "</table>\n",
       "<p>5 rows × 848 columns</p>\n",
       "</div>"
      ],
      "text/plain": [
       "     Gender       Age  Clinical A  Clinical B  Clinical C  Clinical D  \\\n",
       "0 -0.515978  0.244683   -0.354224    -1.24296   -1.823737    -0.34025   \n",
       "1  1.938065 -0.993382   -1.355290    -1.24296   -1.823737    -0.34025   \n",
       "2 -0.515978 -0.231496   -1.355290    -1.24296   -1.823737    -0.34025   \n",
       "3 -0.515978 -0.612439   -0.354224    -1.24296   -1.823737    -0.34025   \n",
       "4 -0.515978  1.197040   -1.355290    -1.24296   -1.823737    -0.34025   \n",
       "\n",
       "         v1        v2        v3        v4  ...      v833      v834      v835  \\\n",
       "0 -0.643969 -0.918799 -0.643745 -1.058283  ... -0.184194  0.121761 -0.287112   \n",
       "1 -0.802291 -0.964595 -0.801776 -0.907695  ... -0.728204  0.997299  0.151826   \n",
       "2 -0.682710 -0.664686 -0.683158 -0.202746  ...  0.224545  1.786734  0.174952   \n",
       "3 -0.792153 -0.674818 -0.791992 -0.088109  ...  0.206096  1.404901  0.091899   \n",
       "4 -0.674682 -0.388673 -0.675164 -0.377239  ...  0.597576  0.257517 -0.327200   \n",
       "\n",
       "       v836      v837      v838      v839      v840      v841      v842  \n",
       "0  0.358863 -0.225831  0.331645 -0.332515  0.100941 -0.030756 -0.781059  \n",
       "1 -0.726514  0.296697  1.233996 -0.434427  0.360163  0.527254 -0.848246  \n",
       "2  0.027430  0.163256  0.368944  0.106615  2.057805  0.485848 -0.970387  \n",
       "3 -0.295599  0.117915  1.096670 -0.019890  3.000071  0.298487 -1.037583  \n",
       "4  0.040125 -0.261389  0.357856 -0.241252  0.913230 -0.171335 -0.919325  \n",
       "\n",
       "[5 rows x 848 columns]"
      ]
     },
     "execution_count": 7,
     "metadata": {},
     "output_type": "execute_result"
    }
   ],
   "source": [
    "X.head(5)"
   ]
  },
  {
   "cell_type": "markdown",
   "metadata": {},
   "source": [
    "## Explore data\n",
    "### 0. Conclusion\n",
    "- The data contains hand-crafted features and image-based features.\n",
    "- The data is imbalanced."
   ]
  },
  {
   "cell_type": "code",
   "execution_count": 8,
   "metadata": {},
   "outputs": [],
   "source": [
    "import matplotlib.pyplot as plt\n",
    "from utils import basic_units\n",
    "import numpy as np\n",
    "import seaborn as sns"
   ]
  },
  {
   "cell_type": "markdown",
   "metadata": {},
   "source": [
    "### 1. Class distribution"
   ]
  },
  {
   "cell_type": "code",
   "execution_count": 9,
   "metadata": {},
   "outputs": [],
   "source": [
    "def plot_class_distribution(y):\n",
    "    \n",
    "    unique, counts = np.unique(y, return_counts=True)\n",
    "    label_count = dict(zip(unique, counts))\n",
    "    \n",
    "    N = len(unique)\n",
    "\n",
    "    fig, ax = plt.subplots()\n",
    "    ax.grid(linestyle='--', zorder=0, axis='y')\n",
    "    ax.set_axisbelow(True)\n",
    "\n",
    "    ind = np.arange(N)/N\n",
    "    width = 0.1\n",
    "    \n",
    "    p_values = tuple()\n",
    "    for label in label_count:\n",
    "        p_values += (label_count[label],)\n",
    "    \n",
    "    p = ax.bar(ind, p_values, width, bottom=0*basic_units.cm, color='black')\n",
    "    \n",
    "    x_ticks = tuple(unique)\n",
    "    ax.set_title('class distribution')\n",
    "    ax.set_xticks(ind)\n",
    "    ax.set_xticklabels(x_ticks)\n",
    "    ax.set_ylabel('number of samples')\n",
    "    ax.set_xlabel('class')\n",
    "\n",
    "    ax.yaxis.set_units(basic_units.inch)\n",
    "    ax.autoscale_view()\n",
    "\n",
    "    plt.show()"
   ]
  },
  {
   "cell_type": "code",
   "execution_count": 10,
   "metadata": {},
   "outputs": [
    {
     "data": {
      "image/png": "[encoded data removed]",
      "text/plain": [
       "<Figure size 432x288 with 1 Axes>"
      ]
     },
     "metadata": {
      "needs_background": "light"
     },
     "output_type": "display_data"
    }
   ],
   "source": [
    "plot_class_distribution(y)"
   ]
  },
  {
   "cell_type": "markdown",
   "metadata": {},
   "source": [
    "According to the distribution graph, the data is imbalanced."
   ]
  },
  {
   "cell_type": "markdown",
   "metadata": {},
   "source": [
    "## Pairwise relationships"
   ]
  },
  {
   "cell_type": "code",
   "execution_count": 11,
   "metadata": {},
   "outputs": [],
   "source": [
    "handcrafted_X = X[['Gender', 'Age', 'Clinical A', 'Clinical B', 'Clinical C', 'Clinical D']]\n",
    "imagebased_X = X[['v' + str(i) for i in range(1, 843)]]"
   ]
  },
  {
   "cell_type": "code",
   "execution_count": 12,
   "metadata": {},
   "outputs": [
    {
     "data": {
      "text/html": [
       "<div>\n",
       "<style scoped>\n",
       "    .dataframe tbody tr th:only-of-type {\n",
       "        vertical-align: middle;\n",
       "    }\n",
       "\n",
       "    .dataframe tbody tr th {\n",
       "        vertical-align: top;\n",
       "    }\n",
       "\n",
       "    .dataframe thead th {\n",
       "        text-align: right;\n",
       "    }\n",
       "</style>\n",
       "<table border=\"1\" class=\"dataframe\">\n",
       "  <thead>\n",
       "    <tr style=\"text-align: right;\">\n",
       "      <th></th>\n",
       "      <th>Gender</th>\n",
       "      <th>Age</th>\n",
       "      <th>Clinical A</th>\n",
       "      <th>Clinical B</th>\n",
       "      <th>Clinical C</th>\n",
       "      <th>Clinical D</th>\n",
       "    </tr>\n",
       "  </thead>\n",
       "  <tbody>\n",
       "    <tr>\n",
       "      <th>0</th>\n",
       "      <td>-0.515978</td>\n",
       "      <td>0.244683</td>\n",
       "      <td>-0.354224</td>\n",
       "      <td>-1.24296</td>\n",
       "      <td>-1.823737</td>\n",
       "      <td>-0.34025</td>\n",
       "    </tr>\n",
       "  </tbody>\n",
       "</table>\n",
       "</div>"
      ],
      "text/plain": [
       "     Gender       Age  Clinical A  Clinical B  Clinical C  Clinical D\n",
       "0 -0.515978  0.244683   -0.354224    -1.24296   -1.823737    -0.34025"
      ]
     },
     "execution_count": 12,
     "metadata": {},
     "output_type": "execute_result"
    }
   ],
   "source": [
    "handcrafted_X.head(1)"
   ]
  },
  {
   "cell_type": "code",
   "execution_count": 13,
   "metadata": {},
   "outputs": [
    {
     "data": {
      "text/html": [
       "<div>\n",
       "<style scoped>\n",
       "    .dataframe tbody tr th:only-of-type {\n",
       "        vertical-align: middle;\n",
       "    }\n",
       "\n",
       "    .dataframe tbody tr th {\n",
       "        vertical-align: top;\n",
       "    }\n",
       "\n",
       "    .dataframe thead th {\n",
       "        text-align: right;\n",
       "    }\n",
       "</style>\n",
       "<table border=\"1\" class=\"dataframe\">\n",
       "  <thead>\n",
       "    <tr style=\"text-align: right;\">\n",
       "      <th></th>\n",
       "      <th>v1</th>\n",
       "      <th>v2</th>\n",
       "      <th>v3</th>\n",
       "      <th>v4</th>\n",
       "      <th>v5</th>\n",
       "      <th>v6</th>\n",
       "      <th>v7</th>\n",
       "      <th>v8</th>\n",
       "      <th>v9</th>\n",
       "      <th>v10</th>\n",
       "      <th>...</th>\n",
       "      <th>v833</th>\n",
       "      <th>v834</th>\n",
       "      <th>v835</th>\n",
       "      <th>v836</th>\n",
       "      <th>v837</th>\n",
       "      <th>v838</th>\n",
       "      <th>v839</th>\n",
       "      <th>v840</th>\n",
       "      <th>v841</th>\n",
       "      <th>v842</th>\n",
       "    </tr>\n",
       "  </thead>\n",
       "  <tbody>\n",
       "    <tr>\n",
       "      <th>0</th>\n",
       "      <td>-0.643969</td>\n",
       "      <td>-0.918799</td>\n",
       "      <td>-0.643745</td>\n",
       "      <td>-1.058283</td>\n",
       "      <td>1.153118</td>\n",
       "      <td>-0.654919</td>\n",
       "      <td>0.891271</td>\n",
       "      <td>0.183706</td>\n",
       "      <td>-1.108919</td>\n",
       "      <td>0.751132</td>\n",
       "      <td>...</td>\n",
       "      <td>-0.184194</td>\n",
       "      <td>0.121761</td>\n",
       "      <td>-0.287112</td>\n",
       "      <td>0.358863</td>\n",
       "      <td>-0.225831</td>\n",
       "      <td>0.331645</td>\n",
       "      <td>-0.332515</td>\n",
       "      <td>0.100941</td>\n",
       "      <td>-0.030756</td>\n",
       "      <td>-0.781059</td>\n",
       "    </tr>\n",
       "  </tbody>\n",
       "</table>\n",
       "<p>1 rows × 842 columns</p>\n",
       "</div>"
      ],
      "text/plain": [
       "         v1        v2        v3        v4        v5        v6        v7  \\\n",
       "0 -0.643969 -0.918799 -0.643745 -1.058283  1.153118 -0.654919  0.891271   \n",
       "\n",
       "         v8        v9       v10  ...      v833      v834      v835      v836  \\\n",
       "0  0.183706 -1.108919  0.751132  ... -0.184194  0.121761 -0.287112  0.358863   \n",
       "\n",
       "       v837      v838      v839      v840      v841      v842  \n",
       "0 -0.225831  0.331645 -0.332515  0.100941 -0.030756 -0.781059  \n",
       "\n",
       "[1 rows x 842 columns]"
      ]
     },
     "execution_count": 13,
     "metadata": {},
     "output_type": "execute_result"
    }
   ],
   "source": [
    "imagebased_X.head(1)"
   ]
  },
  {
   "cell_type": "code",
   "execution_count": 14,
   "metadata": {},
   "outputs": [],
   "source": [
    "df_to_plot = pd.concat([handcrafted_X, y], axis=1)"
   ]
  },
  {
   "cell_type": "code",
   "execution_count": 89,
   "metadata": {},
   "outputs": [
    {
     "data": {
      "image/png": "[encoded data removed]",
      "text/plain": [
       "<Figure size 1204.25x1080 with 42 Axes>"
      ]
     },
     "metadata": {
      "needs_background": "light"
     },
     "output_type": "display_data"
    }
   ],
   "source": [
    "sns.pairplot(df_to_plot, hue='Patient Status at 3 Year');"
   ]
  },
  {
   "cell_type": "markdown",
   "metadata": {},
   "source": [
    "## Split data into training and test sets"
   ]
  },
  {
   "cell_type": "code",
   "execution_count": 15,
   "metadata": {},
   "outputs": [],
   "source": [
    "from sklearn.model_selection import train_test_split"
   ]
  },
  {
   "cell_type": "code",
   "execution_count": 16,
   "metadata": {},
   "outputs": [],
   "source": [
    "def split_data(X, y):\n",
    "    \n",
    "    X_train, X_test, y_train, y_test = train_test_split(X, y, test_size = 0.20, random_state=0, stratify=y)\n",
    "\n",
    "    print(\"Training samples: {0}\".format(y_train.shape[0]))\n",
    "    print(\"Test samples: {0}\".format(y_test.shape[0]))\n",
    "\n",
    "    return X_train, X_test, y_train, y_test"
   ]
  },
  {
   "cell_type": "code",
   "execution_count": 17,
   "metadata": {},
   "outputs": [
    {
     "name": "stdout",
     "output_type": "stream",
     "text": [
      "Training samples: 156\n",
      "Test samples: 39\n"
     ]
    }
   ],
   "source": [
    "X_train, X_test, y_train, y_test = split_data(X, y)"
   ]
  },
  {
   "cell_type": "markdown",
   "metadata": {},
   "source": [
    "## Save to files"
   ]
  },
  {
   "cell_type": "code",
   "execution_count": 18,
   "metadata": {},
   "outputs": [],
   "source": [
    "from config_path import ROOT_DIR"
   ]
  },
  {
   "cell_type": "code",
   "execution_count": 19,
   "metadata": {},
   "outputs": [],
   "source": [
    "def save_array_to_file(array, path):\n",
    "    np.save(path, array)\n",
    "\n",
    "def save_Xy(X, y, _type):\n",
    "    \n",
    "    data_folder_path = os.path.join(ROOT_DIR, 'data')\n",
    "\n",
    "    if not os.path.isdir(data_folder_path):\n",
    "        os.mkdir(data_folder_path)\n",
    "        \n",
    "    _type_folder_path = os.path.join(data_folder_path, _type)\n",
    "        \n",
    "    if not os.path.isdir(_type_folder_path):\n",
    "        os.mkdir(_type_folder_path)\n",
    "        \n",
    "    save_array_to_file(X, os.path.join(_type_folder_path, 'X.npy'))\n",
    "    save_array_to_file(y, os.path.join(_type_folder_path, 'y.npy'))\n",
    "    \n",
    "    "
   ]
  },
  {
   "cell_type": "code",
   "execution_count": 20,
   "metadata": {},
   "outputs": [],
   "source": [
    "save_Xy(X_train, y_train, 'train')\n",
    "save_Xy(X_test, y_test, 'test')"
   ]
  },
  {
   "cell_type": "markdown",
   "metadata": {},
   "source": [
    "# Build model"
   ]
  },
  {
   "cell_type": "code",
   "execution_count": 21,
   "metadata": {},
   "outputs": [],
   "source": [
    "from sklearn import metrics\n",
    "from utils.CSSVM.python.cssvmutil import *"
   ]
  },
  {
   "cell_type": "markdown",
   "metadata": {},
   "source": [
    "### A. Train model with only hand-crafted features (Gender, Age, Clinical A-D)"
   ]
  },
  {
   "cell_type": "markdown",
   "metadata": {},
   "source": [
    "1. Pre-process\n",
    "\n",
    "Note: the data was already normalized."
   ]
  },
  {
   "cell_type": "code",
   "execution_count": 24,
   "metadata": {},
   "outputs": [],
   "source": [
    "handcrafted_X_train = np.array(X_train[['Gender', 'Age', 'Clinical A', 'Clinical B', 'Clinical C', 'Clinical D']])\n",
    "handcrafted_X_test = np.array(X_test[['Gender', 'Age', 'Clinical A', 'Clinical B', 'Clinical C', 'Clinical D']])\n",
    "y_train = np.array(y_train)\n",
    "y_test = np.array(y_test)"
   ]
  },
  {
   "cell_type": "markdown",
   "metadata": {},
   "source": [
    "2. Train"
   ]
  },
  {
   "cell_type": "code",
   "execution_count": null,
   "metadata": {},
   "outputs": [],
   "source": [
    "def train_cssvm(X_train, y_train, X_test, y_test):\n",
    "    \n",
    "    X_train = [dict(enumerate(i, 1)) for i in X_train]\n",
    "    X_test = [dict(enumerate(i, 1)) for i in X_test]\n",
    "    y_train = [1.0 if _y>0 else -1.0 for _y in y_train]\n",
    "    y_test = [1.0 if _y>0 else -1.0 for _y in y_test]\n",
    "\n",
    "    C_range = [10**x for x in range(-6, 7)]\n",
    "    Cp_range = [1, 5, 10, 50, 100]\n",
    "    k_range = [1, 0.975, 0.95, 0.925, 0.9, 0.7, 0.6, 0.5, 0.3, 0.4, 0.2, 0.1, 0.01]\n",
    "\n",
    "    f1_comparable = -np.Infinity\n",
    "\n",
    "    best_model = None\n",
    "\n",
    "    for C in C_range:\n",
    "        for Cp in Cp_range:\n",
    "            for k in k_range:\n",
    "                Cn = 1/k\n",
    "                kernel = 2 # -t 0 is linear kernel, 2 is rbf\n",
    "                params = '-c {0} -w1 {1} -w-1 {2} -t {3} -q'.format(C, Cp, Cn, kernel)\n",
    "                model = svm_train(y_train, X_train, params)\n",
    "                y_pred, p_acc, p_val = svm_predict(y_test, X_test, model)\n",
    "                y_pred = [1.0 if _y>0 else 0.0 for _y in y_pred]\n",
    "                old_y_test = [1.0 if _y>0 else 0.0 for _y in y_test]\n",
    "\n",
    "                f1 = metrics.f1_score(old_y_test, y_pred)\n",
    "\n",
    "                if f1 >= f1_comparable:\n",
    "                    f1_comparable = f1\n",
    "                    best_model = model\n",
    "    return best_model"
   ]
  },
  {
   "cell_type": "code",
   "execution_count": null,
   "metadata": {},
   "outputs": [],
   "source": [
    "optimal_model = train_cssvm(handcrafted_X_train, y_train, handcrafted_X_test, y_test)"
   ]
  },
  {
   "cell_type": "markdown",
   "metadata": {},
   "source": [
    "3. Evaluate"
   ]
  },
  {
   "cell_type": "code",
   "execution_count": 31,
   "metadata": {},
   "outputs": [],
   "source": [
    "def get_prediction_cssvm(X_test, y_test, model):\n",
    "    test = [dict(enumerate(i, 1)) for i in X_test]\n",
    "    y_pred, p_acc, p_val = svm_predict(y_test, test, model)\n",
    "    y_pred = [1.0 if _y>0 else 0.0 for _y in y_pred]\n",
    "    old_y_test = [1.0 if _y>0 else 0.0 for _y in y_test]\n",
    "    return y_pred, old_y_test"
   ]
  },
  {
   "cell_type": "code",
   "execution_count": 32,
   "metadata": {},
   "outputs": [],
   "source": [
    "y_test_pred, _ = get_prediction_cssvm(handcrafted_X_test, y_test, optimal_model)"
   ]
  },
  {
   "cell_type": "code",
   "execution_count": 33,
   "metadata": {},
   "outputs": [
    {
     "name": "stdout",
     "output_type": "stream",
     "text": [
      "              precision    recall  f1-score   support\n",
      "\n",
      "           0       1.00      0.85      0.92        33\n",
      "           1       0.55      1.00      0.71         6\n",
      "\n",
      "    accuracy                           0.87        39\n",
      "   macro avg       0.77      0.92      0.81        39\n",
      "weighted avg       0.93      0.87      0.89        39\n",
      "\n"
     ]
    }
   ],
   "source": [
    "print(metrics.classification_report(y_test, y_test_pred, zero_division=1))"
   ]
  },
  {
   "cell_type": "markdown",
   "metadata": {},
   "source": [
    "### B. Train model with only image-based features (v1-842)"
   ]
  },
  {
   "cell_type": "markdown",
   "metadata": {},
   "source": [
    "1. Pre-process\n",
    "\n",
    "Note: the data was already normalized."
   ]
  },
  {
   "cell_type": "code",
   "execution_count": 34,
   "metadata": {},
   "outputs": [],
   "source": [
    "imagebased_X_train = np.array(X_train[['v' + str(i) for i in range(1, 843)]])\n",
    "imagebased_X_test = np.array(X_test[['v' + str(i) for i in range(1, 843)]])"
   ]
  },
  {
   "cell_type": "markdown",
   "metadata": {},
   "source": [
    "2. Train"
   ]
  },
  {
   "cell_type": "code",
   "execution_count": 35,
   "metadata": {},
   "outputs": [],
   "source": [
    "optimal_model = train_cssvm(imagebased_X_train, y_train, imagebased_X_test, y_test)"
   ]
  },
  {
   "cell_type": "markdown",
   "metadata": {},
   "source": [
    "3. Evaluate"
   ]
  },
  {
   "cell_type": "code",
   "execution_count": 36,
   "metadata": {},
   "outputs": [],
   "source": [
    "y_test_pred, _ = get_prediction_cssvm(imagebased_X_test, y_test, optimal_model)"
   ]
  },
  {
   "cell_type": "code",
   "execution_count": 37,
   "metadata": {},
   "outputs": [
    {
     "name": "stdout",
     "output_type": "stream",
     "text": [
      "              precision    recall  f1-score   support\n",
      "\n",
      "           0       0.97      0.94      0.95        33\n",
      "           1       0.71      0.83      0.77         6\n",
      "\n",
      "    accuracy                           0.92        39\n",
      "   macro avg       0.84      0.89      0.86        39\n",
      "weighted avg       0.93      0.92      0.93        39\n",
      "\n"
     ]
    }
   ],
   "source": [
    "print(metrics.classification_report(y_test, y_test_pred, zero_division=1))"
   ]
  },
  {
   "cell_type": "markdown",
   "metadata": {},
   "source": [
    "### C. Train model with both (BEST)"
   ]
  },
  {
   "cell_type": "markdown",
   "metadata": {},
   "source": [
    "1. Pre-process\n",
    "\n",
    "Note: the data was already normalized."
   ]
  },
  {
   "cell_type": "code",
   "execution_count": 38,
   "metadata": {},
   "outputs": [],
   "source": [
    "both_X_train = np.array(X_train)\n",
    "both_X_test = np.array(X_test)"
   ]
  },
  {
   "cell_type": "markdown",
   "metadata": {},
   "source": [
    "2. Train"
   ]
  },
  {
   "cell_type": "code",
   "execution_count": 39,
   "metadata": {},
   "outputs": [],
   "source": [
    "optimal_model = train_cssvm(both_X_train, y_train, both_X_test, y_test)"
   ]
  },
  {
   "cell_type": "markdown",
   "metadata": {},
   "source": [
    "3. Evaluate"
   ]
  },
  {
   "cell_type": "code",
   "execution_count": 40,
   "metadata": {},
   "outputs": [],
   "source": [
    "y_test_pred, _ = get_prediction_cssvm(both_X_test, y_test, optimal_model)"
   ]
  },
  {
   "cell_type": "code",
   "execution_count": 41,
   "metadata": {},
   "outputs": [
    {
     "name": "stdout",
     "output_type": "stream",
     "text": [
      "              precision    recall  f1-score   support\n",
      "\n",
      "           0       0.97      0.97      0.97        33\n",
      "           1       0.83      0.83      0.83         6\n",
      "\n",
      "    accuracy                           0.95        39\n",
      "   macro avg       0.90      0.90      0.90        39\n",
      "weighted avg       0.95      0.95      0.95        39\n",
      "\n"
     ]
    }
   ],
   "source": [
    "print(metrics.classification_report(y_test, y_test_pred, zero_division=1))"
   ]
  },
  {
   "cell_type": "markdown",
   "metadata": {},
   "source": [
    "### D. Apply PCA to image-based data"
   ]
  },
  {
   "cell_type": "code",
   "execution_count": 43,
   "metadata": {},
   "outputs": [],
   "source": [
    "from sklearn.decomposition import PCA"
   ]
  },
  {
   "cell_type": "code",
   "execution_count": 82,
   "metadata": {},
   "outputs": [],
   "source": [
    "def select_features_pca(X_train, X_test, threshold = 0.95):\n",
    "\n",
    "    pca_model = PCA(threshold)\n",
    "    pca_model.fit(X_train)\n",
    "\n",
    "    n_components = pca_model.n_components_\n",
    "    print(\"Number of seleceted components: {0} ({1})\".format(n_components, X_train.shape[1]))\n",
    "\n",
    "    X_train_pca = pca_model.transform(X_train)\n",
    "    X_test_pca = pca_model.transform(X_test)\n",
    "\n",
    "    return X_train_pca, X_test_pca"
   ]
  },
  {
   "cell_type": "code",
   "execution_count": 83,
   "metadata": {},
   "outputs": [
    {
     "data": {
      "image/png": "[encoded data removed]",
      "text/plain": [
       "<Figure size 432x288 with 1 Axes>"
      ]
     },
     "metadata": {
      "needs_background": "light"
     },
     "output_type": "display_data"
    }
   ],
   "source": [
    "pca = PCA().fit(imagebased_X)\n",
    "plt.plot(np.cumsum(pca.explained_variance_ratio_))\n",
    "plt.xlabel('number of components')\n",
    "plt.ylabel('cumulative explained variance');"
   ]
  },
  {
   "cell_type": "markdown",
   "metadata": {},
   "source": [
    "1. Pre-process"
   ]
  },
  {
   "cell_type": "code",
   "execution_count": 84,
   "metadata": {},
   "outputs": [],
   "source": [
    "handcrafted_X_train = np.array(X_train[['Gender', 'Age', 'Clinical A', 'Clinical B', 'Clinical C', 'Clinical D']])\n",
    "imagebased_X_train = np.array(X_train[['v' + str(i) for i in range(1, 843)]])\n",
    "handcrafted_X_test = np.array(X_test[['Gender', 'Age', 'Clinical A', 'Clinical B', 'Clinical C', 'Clinical D']])\n",
    "imagebased_X_test = np.array(X_test[['v' + str(i) for i in range(1, 843)]])"
   ]
  },
  {
   "cell_type": "code",
   "execution_count": 85,
   "metadata": {},
   "outputs": [
    {
     "name": "stdout",
     "output_type": "stream",
     "text": [
      "Number of seleceted components: 36 (842)\n"
     ]
    }
   ],
   "source": [
    "# Reduce dimensions of image-based data\n",
    "imagebased_X_train, imagebased_X_test = select_features_pca(imagebased_X_train, imagebased_X_test)"
   ]
  },
  {
   "cell_type": "code",
   "execution_count": 86,
   "metadata": {},
   "outputs": [],
   "source": [
    "# Concatenate\n",
    "both_X_train = np.concatenate((handcrafted_X_train, imagebased_X_train), axis=1)\n",
    "both_X_test = np.concatenate((handcrafted_X_test, imagebased_X_test), axis=1)"
   ]
  },
  {
   "cell_type": "markdown",
   "metadata": {},
   "source": [
    "2. Train"
   ]
  },
  {
   "cell_type": "code",
   "execution_count": 87,
   "metadata": {},
   "outputs": [],
   "source": [
    "optimal_model = train_cssvm(both_X_train, y_train, both_X_test, y_test)"
   ]
  },
  {
   "cell_type": "markdown",
   "metadata": {},
   "source": [
    "3. Evaluate"
   ]
  },
  {
   "cell_type": "code",
   "execution_count": 88,
   "metadata": {},
   "outputs": [
    {
     "name": "stdout",
     "output_type": "stream",
     "text": [
      "              precision    recall  f1-score   support\n",
      "\n",
      "           0       0.87      1.00      0.93        33\n",
      "           1       1.00      0.17      0.29         6\n",
      "\n",
      "    accuracy                           0.87        39\n",
      "   macro avg       0.93      0.58      0.61        39\n",
      "weighted avg       0.89      0.87      0.83        39\n",
      "\n"
     ]
    }
   ],
   "source": [
    "y_test_pred, _ = get_prediction_cssvm(both_X_test, y_test, optimal_model)\n",
    "print(metrics.classification_report(y_test, y_test_pred, zero_division=1))"
   ]
  }
 ],
 "metadata": {
  "kernelspec": {
   "display_name": "Python 3",
   "language": "python",
   "name": "python3"
  },
  "language_info": {
   "codemirror_mode": {
    "name": "ipython",
    "version": 3
   },
   "file_extension": ".py",
   "mimetype": "text/x-python",
   "name": "python",
   "nbconvert_exporter": "python",
   "pygments_lexer": "ipython3",
   "version": "3.6.10"
  }
 },
 "nbformat": 4,
 "nbformat_minor": 4
}
